Lazy learning methods: similar instances belong to same classifiers.
    - need similar measure and training set. 

K-NN: not only look the most similar case, look for k most similar casse
    - similar case
    - Voronoi space-> separate space for each class. 
    - Distance beetwen points is Euclidean distance.
        * CAVEAT: each of columns have to be in same range of values. 
         

